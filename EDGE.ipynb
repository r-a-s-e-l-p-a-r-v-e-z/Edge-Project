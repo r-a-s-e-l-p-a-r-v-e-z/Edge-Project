{
  "nbformat": 4,
  "nbformat_minor": 0,
  "metadata": {
    "colab": {
      "provenance": []
    },
    "kernelspec": {
      "name": "python3",
      "display_name": "Python 3"
    },
    "language_info": {
      "name": "python"
    }
  },
  "cells": [
    {
      "cell_type": "code",
      "source": [
        "df=\"Rasel_Parvez\",'221-15-5432'\n",
        "df"
      ],
      "metadata": {
        "colab": {
          "base_uri": "https://localhost:8080/"
        },
        "id": "DPYawmVRWQsm",
        "outputId": "500ac8c7-908e-4828-f3df-9f72dc42ebad"
      },
      "execution_count": null,
      "outputs": [
        {
          "output_type": "execute_result",
          "data": {
            "text/plain": [
              "('Rasel_Parvez', '221-15-5432')"
            ]
          },
          "metadata": {},
          "execution_count": 40
        }
      ]
    },
    {
      "cell_type": "code",
      "source": [
        "import pandas as pd\n",
        "df = pd.read_csv('/content/Sample_Data_AI_Lab_Final.csv')\n",
        "df\n",
        "print(\"Dataset Overview:\")\n",
        "print(df.head())\n",
        "print(df.info())"
      ],
      "metadata": {
        "colab": {
          "base_uri": "https://localhost:8080/"
        },
        "id": "gyu7voE8UfBN",
        "outputId": "791129fc-984d-41b5-eb58-803eebc87bcb"
      },
      "execution_count": null,
      "outputs": [
        {
          "output_type": "stream",
          "name": "stdout",
          "text": [
            "Dataset Overview:\n",
            "   MultipleLines  InternetService  OnlineSecurity  OnlineBackup  \\\n",
            "0              1                0               3             3   \n",
            "1              0                2               0             1   \n",
            "2              1                2               0             0   \n",
            "3              0                1               0             0   \n",
            "4              0                1               1             0   \n",
            "\n",
            "   DeviceProtection  TechSupport  StreamingTV  StreamingMovies  \\\n",
            "0                 3            3            3                3   \n",
            "1                 1            0            1                0   \n",
            "2                 0            0            0                0   \n",
            "3                 0            0            0                1   \n",
            "4                 1            0            0                0   \n",
            "\n",
            "   MonthlyCharges TotalCharges        Contract  \n",
            "0           24.10      1734.65        Two year  \n",
            "1           88.15       3973.2  Month-to-month  \n",
            "2           74.95      2869.85  Month-to-month  \n",
            "3           55.90        238.5  Month-to-month  \n",
            "4           53.45        119.5  Month-to-month  \n",
            "<class 'pandas.core.frame.DataFrame'>\n",
            "RangeIndex: 5986 entries, 0 to 5985\n",
            "Data columns (total 11 columns):\n",
            " #   Column            Non-Null Count  Dtype  \n",
            "---  ------            --------------  -----  \n",
            " 0   MultipleLines     5986 non-null   int64  \n",
            " 1   InternetService   5986 non-null   int64  \n",
            " 2   OnlineSecurity    5986 non-null   int64  \n",
            " 3   OnlineBackup      5986 non-null   int64  \n",
            " 4   DeviceProtection  5986 non-null   int64  \n",
            " 5   TechSupport       5986 non-null   int64  \n",
            " 6   StreamingTV       5986 non-null   int64  \n",
            " 7   StreamingMovies   5986 non-null   int64  \n",
            " 8   MonthlyCharges    5986 non-null   float64\n",
            " 9   TotalCharges      5986 non-null   object \n",
            " 10  Contract          5986 non-null   object \n",
            "dtypes: float64(1), int64(8), object(2)\n",
            "memory usage: 514.5+ KB\n",
            "None\n"
          ]
        }
      ]
    },
    {
      "cell_type": "code",
      "source": [
        "df['TotalCharges'] = pd.to_numeric(df['TotalCharges'], errors='coerce')\n",
        "print(\"\\nMissing Values:\")\n",
        "print(df.isnull().sum())\n",
        "df['TotalCharges'].fillna(df['TotalCharges'].median(), inplace=True)\n",
        "print(\"\\nMissing Values After Imputation:\")\n",
        "print(df.isnull().sum())"
      ],
      "metadata": {
        "colab": {
          "base_uri": "https://localhost:8080/"
        },
        "id": "Z6AG24KKUqyW",
        "outputId": "bd95af5e-ae75-4ebd-dfc3-3551f0c525bc"
      },
      "execution_count": null,
      "outputs": [
        {
          "output_type": "stream",
          "name": "stdout",
          "text": [
            "\n",
            "Missing Values:\n",
            "MultipleLines        0\n",
            "InternetService      0\n",
            "OnlineSecurity       0\n",
            "OnlineBackup         0\n",
            "DeviceProtection     0\n",
            "TechSupport          0\n",
            "StreamingTV          0\n",
            "StreamingMovies      0\n",
            "MonthlyCharges       0\n",
            "TotalCharges        10\n",
            "Contract             0\n",
            "dtype: int64\n",
            "\n",
            "Missing Values After Imputation:\n",
            "MultipleLines       0\n",
            "InternetService     0\n",
            "OnlineSecurity      0\n",
            "OnlineBackup        0\n",
            "DeviceProtection    0\n",
            "TechSupport         0\n",
            "StreamingTV         0\n",
            "StreamingMovies     0\n",
            "MonthlyCharges      0\n",
            "TotalCharges        0\n",
            "Contract            0\n",
            "dtype: int64\n"
          ]
        },
        {
          "output_type": "stream",
          "name": "stderr",
          "text": [
            "<ipython-input-27-989605be4b9b>:6: FutureWarning: A value is trying to be set on a copy of a DataFrame or Series through chained assignment using an inplace method.\n",
            "The behavior will change in pandas 3.0. This inplace method will never work because the intermediate object on which we are setting values always behaves as a copy.\n",
            "\n",
            "For example, when doing 'df[col].method(value, inplace=True)', try using 'df.method({col: value}, inplace=True)' or df[col] = df[col].method(value) instead, to perform the operation inplace on the original object.\n",
            "\n",
            "\n",
            "  df['TotalCharges'].fillna(df['TotalCharges'].median(), inplace=True)\n"
          ]
        }
      ]
    },
    {
      "cell_type": "code",
      "source": [
        "from sklearn.preprocessing import LabelEncoder\n",
        "df = pd.get_dummies(df, columns=['Contract'], drop_first=True)\n",
        "label_encoder = LabelEncoder()\n",
        "df['InternetService'] = label_encoder.fit_transform(df['InternetService'])\n",
        "print(\"\\nDataset After Encoding:\")\n",
        "print(df.head())"
      ],
      "metadata": {
        "colab": {
          "base_uri": "https://localhost:8080/"
        },
        "id": "s4TfMRCMUwdN",
        "outputId": "fdece4b1-97a3-4088-cebf-30047eef1cc0"
      },
      "execution_count": null,
      "outputs": [
        {
          "output_type": "stream",
          "name": "stdout",
          "text": [
            "\n",
            "Dataset After Encoding:\n",
            "   MultipleLines  InternetService  OnlineSecurity  OnlineBackup  \\\n",
            "0              1                0               3             3   \n",
            "1              0                2               0             1   \n",
            "2              1                2               0             0   \n",
            "3              0                1               0             0   \n",
            "4              0                1               1             0   \n",
            "\n",
            "   DeviceProtection  TechSupport  StreamingTV  StreamingMovies  \\\n",
            "0                 3            3            3                3   \n",
            "1                 1            0            1                0   \n",
            "2                 0            0            0                0   \n",
            "3                 0            0            0                1   \n",
            "4                 1            0            0                0   \n",
            "\n",
            "   MonthlyCharges  TotalCharges  Contract_One year  Contract_Two year  \n",
            "0           24.10       1734.65              False               True  \n",
            "1           88.15       3973.20              False              False  \n",
            "2           74.95       2869.85              False              False  \n",
            "3           55.90        238.50              False              False  \n",
            "4           53.45        119.50              False              False  \n"
          ]
        }
      ]
    },
    {
      "cell_type": "code",
      "source": [
        "from sklearn.preprocessing import MinMaxScaler\n",
        "scaler = MinMaxScaler()\n",
        "numerical_features = ['MonthlyCharges', 'TotalCharges']\n",
        "df[numerical_features] = scaler.fit_transform(df[numerical_features])\n",
        "print(\"\\nDataset After Scaling:\")\n",
        "print(df[numerical_features].head())"
      ],
      "metadata": {
        "colab": {
          "base_uri": "https://localhost:8080/"
        },
        "id": "OWNGPxCcU0Jl",
        "outputId": "8c4f6a8b-db4e-46c7-fb2f-7731d9011f12"
      },
      "execution_count": null,
      "outputs": [
        {
          "output_type": "stream",
          "name": "stdout",
          "text": [
            "\n",
            "Dataset After Scaling:\n",
            "   MonthlyCharges  TotalCharges\n",
            "0        0.058209      0.197998\n",
            "1        0.695522      0.456312\n",
            "2        0.564179      0.328993\n",
            "3        0.374627      0.025352\n",
            "4        0.350249      0.011620\n"
          ]
        }
      ]
    },
    {
      "cell_type": "code",
      "source": [
        "from sklearn.model_selection import train_test_split\n",
        "df['Target'] = (df['MonthlyCharges'] > 0.5).astype(int)\n",
        "X = df.drop(columns=['Target'])\n",
        "y = df['Target']\n",
        "X_train, X_test, y_train, y_test = train_test_split(X, y, test_size=0.3, random_state=42)\n",
        "print(\"\\nTrain-Test Split:\")\n",
        "print(\"Training Set Size:\", X_train.shape)\n",
        "print(\"Testing Set Size:\", X_test.shape)"
      ],
      "metadata": {
        "colab": {
          "base_uri": "https://localhost:8080/"
        },
        "id": "PGqWymtOU4re",
        "outputId": "86e19efb-1cda-4005-d661-eed4992cad6f"
      },
      "execution_count": null,
      "outputs": [
        {
          "output_type": "stream",
          "name": "stdout",
          "text": [
            "\n",
            "Train-Test Split:\n",
            "Training Set Size: (4190, 12)\n",
            "Testing Set Size: (1796, 12)\n"
          ]
        }
      ]
    },
    {
      "cell_type": "code",
      "source": [
        "from sklearn.neighbors import KNeighborsClassifier\n",
        "from sklearn.metrics import classification_report, accuracy_score\n",
        "knn = KNeighborsClassifier(n_neighbors=5)\n",
        "knn.fit(X_train, y_train)\n",
        "y_pred_knn = knn.predict(X_test)\n",
        "print(\"\\nKNN Classification Report:\")\n",
        "print(classification_report(y_test, y_pred_knn))"
      ],
      "metadata": {
        "colab": {
          "base_uri": "https://localhost:8080/"
        },
        "id": "1VD64wo2VAUu",
        "outputId": "e82539d2-e083-4091-e49b-34ea45edf75a"
      },
      "execution_count": null,
      "outputs": [
        {
          "output_type": "stream",
          "name": "stdout",
          "text": [
            "\n",
            "KNN Classification Report:\n",
            "              precision    recall  f1-score   support\n",
            "\n",
            "           0       0.99      0.99      0.99       868\n",
            "           1       0.99      0.99      0.99       928\n",
            "\n",
            "    accuracy                           0.99      1796\n",
            "   macro avg       0.99      0.99      0.99      1796\n",
            "weighted avg       0.99      0.99      0.99      1796\n",
            "\n"
          ]
        }
      ]
    },
    {
      "cell_type": "code",
      "source": [
        "from sklearn.ensemble import RandomForestClassifier\n",
        "rf = RandomForestClassifier(random_state=42)\n",
        "rf.fit(X_train, y_train)\n",
        "y_pred_rf = rf.predict(X_test)\n",
        "print(\"\\nRandom Forest Classification Report:\")\n",
        "print(classification_report(y_test, y_pred_rf))"
      ],
      "metadata": {
        "colab": {
          "base_uri": "https://localhost:8080/"
        },
        "id": "EYCFjjFPVEJO",
        "outputId": "473dd1ca-1a32-4fcf-bb56-dfa3441d29f9"
      },
      "execution_count": null,
      "outputs": [
        {
          "output_type": "stream",
          "name": "stdout",
          "text": [
            "\n",
            "Random Forest Classification Report:\n",
            "              precision    recall  f1-score   support\n",
            "\n",
            "           0       1.00      1.00      1.00       868\n",
            "           1       1.00      1.00      1.00       928\n",
            "\n",
            "    accuracy                           1.00      1796\n",
            "   macro avg       1.00      1.00      1.00      1796\n",
            "weighted avg       1.00      1.00      1.00      1796\n",
            "\n"
          ]
        }
      ]
    },
    {
      "cell_type": "code",
      "source": [
        "from sklearn.naive_bayes import GaussianNB\n",
        "nb = GaussianNB()\n",
        "nb.fit(X_train, y_train)\n",
        "y_pred_nb = nb.predict(X_test)\n",
        "print(\"\\nNaïve Bayes Classification Report:\")\n",
        "print(classification_report(y_test, y_pred_nb))"
      ],
      "metadata": {
        "colab": {
          "base_uri": "https://localhost:8080/"
        },
        "id": "xVClz6DQVI91",
        "outputId": "a17ce3c5-ac1f-40f0-cd4f-9ff35986ee3b"
      },
      "execution_count": null,
      "outputs": [
        {
          "output_type": "stream",
          "name": "stdout",
          "text": [
            "\n",
            "Naïve Bayes Classification Report:\n",
            "              precision    recall  f1-score   support\n",
            "\n",
            "           0       1.00      0.78      0.87       868\n",
            "           1       0.83      1.00      0.91       928\n",
            "\n",
            "    accuracy                           0.89      1796\n",
            "   macro avg       0.91      0.89      0.89      1796\n",
            "weighted avg       0.91      0.89      0.89      1796\n",
            "\n"
          ]
        }
      ]
    },
    {
      "cell_type": "code",
      "source": [
        "results = {\n",
        "    \"KNN\": accuracy_score(y_test, y_pred_knn),\n",
        "    \"Random Forest\": accuracy_score(y_test, y_pred_rf),\n",
        "    \"Naive Bayes\": accuracy_score(y_test, y_pred_nb),\n",
        "}\n",
        "\n",
        "print(\"\\nComparative Analysis:\")\n",
        "for model, accuracy in results.items():\n",
        "    print(f\"{model}: Accuracy = {accuracy:.2f}\")"
      ],
      "metadata": {
        "colab": {
          "base_uri": "https://localhost:8080/"
        },
        "id": "qBHvK5fNVM1t",
        "outputId": "4fdd701a-c85a-49ee-c37a-0055a2182ca0"
      },
      "execution_count": null,
      "outputs": [
        {
          "output_type": "stream",
          "name": "stdout",
          "text": [
            "\n",
            "Comparative Analysis:\n",
            "KNN: Accuracy = 0.99\n",
            "Random Forest: Accuracy = 1.00\n",
            "Naive Bayes: Accuracy = 0.89\n"
          ]
        }
      ]
    }
  ]
}